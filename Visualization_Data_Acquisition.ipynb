{
 "cells": [
  {
   "cell_type": "code",
   "execution_count": 1,
   "metadata": {},
   "outputs": [
    {
     "name": "stderr",
     "output_type": "stream",
     "text": [
      "Parsed with column specification:\n",
      "cols(\n",
      "  .default = col_double(),\n",
      "  `Province/State` = \u001b[31mcol_character()\u001b[39m,\n",
      "  `Country/Region` = \u001b[31mcol_character()\u001b[39m\n",
      ")\n",
      "\n",
      "See spec(...) for full column specifications.\n",
      "\n"
     ]
    },
    {
     "ename": "ERROR",
     "evalue": "Error: Table JHUdata exists in database, and both overwrite and append are FALSE\n",
     "output_type": "error",
     "traceback": [
      "Error: Table JHUdata exists in database, and both overwrite and append are FALSE\nTraceback:\n",
      "1. dbWriteTable(con, \"JHUdata\", data)",
      "2. dbWriteTable(con, \"JHUdata\", data)",
      "3. .local(conn, name, value, ...)",
      "4. stop(\"Table \", name, \" exists in database, and both overwrite and\", \n .     \" append are FALSE\", call. = FALSE)"
     ]
    }
   ],
   "source": [
    "# load packages and save the table \"JHUdata\" in the database \"Visualization\"\n",
    "library(RSQLite)\n",
    "library(readr)\n",
    "library(foreach)\n",
    "\n",
    "con <- dbConnect(RSQLite::SQLite(), \"Visualization.db\")\n",
    "urlfile = \"https://raw.githubusercontent.com/CSSEGISandData/COVID-19/master/csse_covid_19_data/csse_covid_19_time_series/time_series_covid19_confirmed_global.csv\"\n",
    "data <- read_csv(url(urlfile))\n",
    "dbWriteTable(con, \"JHUdata\", data)\n",
    "dbDisconnect(con)"
   ]
  },
  {
   "cell_type": "code",
   "execution_count": null,
   "metadata": {},
   "outputs": [],
   "source": [
    "# upload the table \"Distance\"\n",
    "con <- dbConnect(RSQLite::SQLite(), \"Visualization.db\")\n",
    "urlfile = \"https://raw.githubusercontent.com/NorrieF/Corona-Visualization/master/social_distance_data.csv\"\n",
    "data <- read_csv(url(urlfile))\n",
    "dbWriteTable(con, \"Distance\", data)\n",
    "dbDisconnect(con)"
   ]
  },
  {
   "cell_type": "code",
   "execution_count": null,
   "metadata": {},
   "outputs": [],
   "source": [
    "# remove all rows from JHUdata the country/region of which are not found in Distance.\n",
    "con <- dbConnect(RSQLite::SQLite(), \"Visualization.db\")\n",
    "dbExecute(con, \"DELETE FROM JHUdata WHERE [Country/Region] NOT IN (SELECT Country from Distance)\") \n",
    "dbDisconnect(con)"
   ]
  },
  {
   "cell_type": "code",
   "execution_count": 3,
   "metadata": {},
   "outputs": [],
   "source": [
    "# rows for Canada and China need to be aggregated to the country level\n",
    "# since there are only those two groups and are many columns,\n",
    "# the task will be carried out more easily with Excel than R - automation isn't worth here.\n",
    "# so, save the modified JHUdata on the desktop\n",
    "con <- dbConnect(RSQLite::SQLite(), \"Visualization.db\")\n",
    "JHUdata <- dbGetQuery(con, \"SELECT * FROM JHUdata\")\n",
    "write.csv(JHUdata, \"C:/Users/Norrie/Desktop/JHUdata.csv\")\n",
    "dbDisconnect(con)"
   ]
  },
  {
   "cell_type": "code",
   "execution_count": null,
   "metadata": {},
   "outputs": [],
   "source": [
    "# get the metadata table from JHU's repository for its column \"Population\"\n",
    "con <- dbConnect(RSQLite::SQLite(), \"Visualization.db\")\n",
    "urlfile = \"https://raw.githubusercontent.com/CSSEGISandData/COVID-19/master/csse_covid_19_data/UID_ISO_FIPS_LookUp_Table.csv\"\n",
    "data <- read_csv(url(urlfile))\n",
    "write.csv(data, \"C:/Users/Norrie/Desktop/Metadata.csv\")\n",
    "dbDisconnect(con)"
   ]
  },
  {
   "cell_type": "code",
   "execution_count": null,
   "metadata": {},
   "outputs": [],
   "source": [
    "# data cleanup and reconstruction carried out with Excel\n",
    "# after that, visualize the table with Python"
   ]
  }
 ],
 "metadata": {
  "kernelspec": {
   "display_name": "R",
   "language": "R",
   "name": "ir"
  },
  "language_info": {
   "codemirror_mode": "r",
   "file_extension": ".r",
   "mimetype": "text/x-r-source",
   "name": "R",
   "pygments_lexer": "r",
   "version": "3.6.3"
  }
 },
 "nbformat": 4,
 "nbformat_minor": 4
}
